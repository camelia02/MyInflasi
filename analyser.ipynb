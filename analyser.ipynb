{
 "cells": [
  {
   "cell_type": "markdown",
   "metadata": {},
   "source": [
    "Initialise library and variables"
   ]
  },
  {
   "cell_type": "code",
   "execution_count": 1,
   "metadata": {},
   "outputs": [],
   "source": [
    "# If not already installed, do: pip install pandas fastparquet\n",
    "import pandas as pd\n",
    "import numpy as np\n",
    "import matplotlib.pyplot as plt\n",
    "import seaborn as sns\n",
    "import json\n",
    "import dask.dataframe as ddf\n",
    "from dask.diagnostics import ProgressBar\n"
   ]
  },
  {
   "cell_type": "code",
   "execution_count": 2,
   "metadata": {},
   "outputs": [],
   "source": [
    "\n",
    "URL_LOOKUP = 'https://storage.googleapis.com/dosm-public-pricecatcher/lookup_item.parquet'\n",
    "URL_PREMISE = 'https://storage.googleapis.com/dosm-public-pricecatcher/lookup_premise.parquet'\n",
    "url_file = 'pricecatcher/pricecatcher/price_urls.json'\n",
    "\n",
    "malaysia_states = {\n",
    "    \"Johor\" : 1,\n",
    "    \"Kedah\" : 2,\n",
    "    \"Kelantan\" : 3,\n",
    "    \"Melaka\": 4,\n",
    "    \"Negeri Sembilan\" : 5,\n",
    "    \"Pahang\" : 6,\n",
    "    \"Perak\" : 7,\n",
    "    \"Perlis\" : 8,\n",
    "    \"Pulau Pinang\" : 9,\n",
    "    \"Sabah\" : 10,\n",
    "    \"Sarawak\" : 11,\n",
    "    \"Selangor\" : 12,\n",
    "    \"Terengganu\" :14,\n",
    "    \"Wilayah Persekutuan\" : 14\n",
    "}"
   ]
  },
  {
   "cell_type": "code",
   "execution_count": 4,
   "metadata": {},
   "outputs": [
    {
     "ename": "SyntaxError",
     "evalue": "invalid syntax (3252198008.py, line 27)",
     "output_type": "error",
     "traceback": [
      "\u001b[1;31m---------------------------------------------------------------------------\u001b[0m",
      "\u001b[1;31mSyntaxError\u001b[0m                               Traceback (most recent call last)",
      "File \u001b[1;32mc:\\Users\\camel\\OneDrive - Arizona State University\\Desktop\\MyInflasi\\myenv\\Lib\\site-packages\\IPython\\core\\compilerop.py:86\u001b[0m, in \u001b[0;36mCachingCompiler.ast_parse\u001b[1;34m(self, source, filename, symbol)\u001b[0m\n\u001b[0;32m     81\u001b[0m \u001b[39mdef\u001b[39;00m \u001b[39mast_parse\u001b[39m(\u001b[39mself\u001b[39m, source, filename\u001b[39m=\u001b[39m\u001b[39m'\u001b[39m\u001b[39m<unknown>\u001b[39m\u001b[39m'\u001b[39m, symbol\u001b[39m=\u001b[39m\u001b[39m'\u001b[39m\u001b[39mexec\u001b[39m\u001b[39m'\u001b[39m):\n\u001b[0;32m     82\u001b[0m \u001b[39m    \u001b[39m\u001b[39m\"\"\"Parse code to an AST with the current compiler flags active.\u001b[39;00m\n\u001b[0;32m     83\u001b[0m \n\u001b[0;32m     84\u001b[0m \u001b[39m    Arguments are exactly the same as ast.parse (in the standard library),\u001b[39;00m\n\u001b[0;32m     85\u001b[0m \u001b[39m    and are passed to the built-in compile function.\"\"\"\u001b[39;00m\n\u001b[1;32m---> 86\u001b[0m     \u001b[39mreturn\u001b[39;00m \u001b[39mcompile\u001b[39m(source, filename, symbol, \u001b[39mself\u001b[39m\u001b[39m.\u001b[39mflags \u001b[39m|\u001b[39m PyCF_ONLY_AST, \u001b[39m1\u001b[39m)\n",
      "\u001b[1;31mSyntaxError\u001b[0m: invalid syntax (3252198008.py, line 27)"
     ]
    }
   ],
   "source": [
    "price_dfs = []\n",
    "\n",
    "with open(url_file, 'r') as json_file: \n",
    "    price_urls_data = json.load(json_file)\n",
    "\n",
    "for entry in price_urls_data:\n",
    "        parquet_urls = entry['parquet_files']\n",
    "        for url in parquet_urls:\n",
    "            df = ddf.read_parquet(url, blocksize = '1GB', npartitions = 8)\n",
    "            if 'date' in df.columns: df['date'] = ddf.to_datetime(df['date'])\n",
    "            df = df[(df['item_code'] != -1) | (df['premise_code'] != -1)]\n",
    "            price_dfs.append(df)\n",
    "\n",
    "price = ddf.concat(price_dfs, ignore_index = True)\n",
    "\n",
    "premise = ddf.read_parquet(URL_PREMISE, npartitions = 8)\n",
    "lookup = ddf.read_parquet(URL_LOOKUP, npartitions = 8)\n",
    "premise = premise.dropna()\n",
    "lookup = lookup.dropna()\n",
    "if 'date' in lookup.columns: lookup['date'] = ddf.to_datetime(lookup['date'])\n",
    "if 'date' in premise.columns: premise['date'] = ddf.to_datetime(premise['date'])\n",
    "\n",
    "#premise = premise.drop(columns = ['premise_type', 'address'])\n",
    "price['premise_code'] = price['premise_code'].astype('int32')\n",
    "premise['premise_code'] = premise['premise_code'].astype('int32')\n",
    "No need to merge and save a headache\n",
    "price = premise.merge(price, on='premise_code',how='left',indicator=False)\n",
    "price = price.drop(columns = ['premise_type', 'address', 'premise', 'state', 'district'])\n",
    "\n",
    "del price_dfs\n",
    "del df\n",
    "del entry\n",
    "del json_file\n",
    "del parquet_urls\n",
    "del url\n"
   ]
  },
  {
   "cell_type": "code",
   "execution_count": null,
   "metadata": {},
   "outputs": [],
   "source": [
    "price"
   ]
  },
  {
   "cell_type": "code",
   "execution_count": null,
   "metadata": {},
   "outputs": [],
   "source": [
    "premise"
   ]
  },
  {
   "cell_type": "code",
   "execution_count": null,
   "metadata": {},
   "outputs": [],
   "source": [
    "lookup"
   ]
  },
  {
   "cell_type": "markdown",
   "metadata": {},
   "source": [
    "CREATE A DICT SO USER CAN ACCESS USING ITEM AND PREMISE CODE INSTEAD OF NAME"
   ]
  },
  {
   "cell_type": "code",
   "execution_count": null,
   "metadata": {},
   "outputs": [],
   "source": [
    "mapping_location_series = premise.set_index('premise_code')['state']\n",
    "mapping_location_dict = mapping_location_series.compute().to_dict()\n",
    "lookup_series = lookup.set_index('item')['item_code']\n",
    "lookup_dict = lookup_series.compute().to_dict()\n",
    "\n",
    "del mapping_location_series\n",
    "del lookup_series"
   ]
  },
  {
   "cell_type": "code",
   "execution_count": null,
   "metadata": {},
   "outputs": [],
   "source": [
    "price['premise_code'] = price['premise_code'].map(mapping_location_dict)\n",
    "price['premise_code'] = price['premise_code'].map(malaysia_states)\n",
    "del mapping_location_dict"
   ]
  },
  {
   "cell_type": "code",
   "execution_count": null,
   "metadata": {},
   "outputs": [],
   "source": [
    "mapping_location_dict"
   ]
  },
  {
   "cell_type": "code",
   "execution_count": null,
   "metadata": {},
   "outputs": [],
   "source": [
    "print(price.head())"
   ]
  },
  {
   "cell_type": "code",
   "execution_count": null,
   "metadata": {},
   "outputs": [],
   "source": [
    "import dask.dataframe as dd\n",
    "from fuzzywuzzy import fuzz\n",
    "import ipywidgets as widgets\n",
    "from IPython.display import display, clear_output\n",
    "import time\n",
    "import threading"
   ]
  },
  {
   "cell_type": "code",
   "execution_count": null,
   "metadata": {},
   "outputs": [],
   "source": [
    "#Defining global variable below\n",
    "user_input = []\n",
    "filtered_data = None\n",
    "item_keys = []\n",
    "state_key = None"
   ]
  },
  {
   "cell_type": "code",
   "execution_count": null,
   "metadata": {},
   "outputs": [],
   "source": [
    "def widget():\n",
    "    state_input = widgets.Text(description=\"State: \")\n",
    "    item_input = widgets.Text(description=\"Item: \")\n",
    "    submit_button = widgets.Button(description=\"Submit\")\n",
    "    cancel_button = widgets.Button(description=\"Cancel\")\n",
    "    buttons_box = widgets.HBox([submit_button, cancel_button])\n",
    "    \n",
    "    display(item_input) \n",
    "    display(state_input)\n",
    "    display(buttons_box)\n",
    "\n",
    "    def on_submit(button):\n",
    "        global user_input\n",
    "        item = item_input.value.strip().lower()\n",
    "        state = state_input.value.strip().lower()\n",
    "\n",
    "        display(item)\n",
    "        display(state)\n",
    "        if state is not None:\n",
    "            if item is not None: user_input = [item, state]\n",
    "        else:\n",
    "            if item is not None: user_input = [item]\n",
    "        \n",
    "    submit_button.on_click(on_submit)"
   ]
  },
  {
   "cell_type": "code",
   "execution_count": null,
   "metadata": {},
   "outputs": [],
   "source": [
    "def match(input, choices, threshold=80):\n",
    "        match_score = [(choice, fuzz.partial_ratio(input, choice.lower())) for choice in choices if isinstance(choice, str)]\n",
    "        matched_item = max(match_score, key=lambda x: x[1], default=None)\n",
    "        if matched_item[1] >= threshold:\n",
    "            return matched_item[0]\n",
    "        else:\n",
    "            return None\n",
    "\n",
    "def identify_item_code(user_input):\n",
    "    global item_keys\n",
    "    user_item_name = user_input.strip().lower()\n",
    "    matching_item_codes = []\n",
    "    \n",
    "    # Search in the \"item\" column\n",
    "    matched_item = match(user_item_name, lookup['item'], threshold=80)\n",
    "    if matched_item is not None:\n",
    "        item_codes = lookup[lookup['item'] == matched_item]['item_code'].tolist()\n",
    "        matching_item_codes.extend(item_codes)\n",
    "    \n",
    "    # Search in the \"item_category\" column\n",
    "    matched_category = match(user_item_name, lookup['item_category'], threshold=80)\n",
    "    if matched_category is not None:\n",
    "        item_codes = lookup[lookup['item_category'] == matched_category]['item_code'].tolist()\n",
    "        matching_item_codes.extend(item_codes)\n",
    "    \n",
    "    item_keys = list(set(matching_item_codes))\n",
    "    \n",
    "    return price[price['item_code'].isin(item_keys)]\n",
    "\n",
    "#def identify_premise_code(user_input):\n"
   ]
  },
  {
   "cell_type": "code",
   "execution_count": null,
   "metadata": {},
   "outputs": [],
   "source": [
    "widget()"
   ]
  },
  {
   "cell_type": "code",
   "execution_count": null,
   "metadata": {},
   "outputs": [],
   "source": [
    "filtered_data\n"
   ]
  }
 ],
 "metadata": {
  "kernelspec": {
   "display_name": "myenv",
   "language": "python",
   "name": "python3"
  },
  "language_info": {
   "codemirror_mode": {
    "name": "ipython",
    "version": 3
   },
   "file_extension": ".py",
   "mimetype": "text/x-python",
   "name": "python",
   "nbconvert_exporter": "python",
   "pygments_lexer": "ipython3",
   "version": "3.11.4"
  },
  "orig_nbformat": 4
 },
 "nbformat": 4,
 "nbformat_minor": 2
}
